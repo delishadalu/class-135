{
  "nbformat": 4,
  "nbformat_minor": 0,
  "metadata": {
    "colab": {
      "provenance": [],
      "collapsed_sections": [],
      "authorship_tag": "ABX9TyM+EPC4YOEZ5Lk08xQOPcom",
      "include_colab_link": true
    },
    "kernelspec": {
      "name": "python3",
      "display_name": "Python 3"
    },
    "language_info": {
      "name": "python"
    }
  },
  "cells": [
    {
      "cell_type": "markdown",
      "metadata": {
        "id": "view-in-github",
        "colab_type": "text"
      },
      "source": [
        "<a href=\"https://colab.research.google.com/github/delishadalu/class-135/blob/main/c135.ipynb\" target=\"_parent\"><img src=\"https://colab.research.google.com/assets/colab-badge.svg\" alt=\"Open In Colab\"/></a>"
      ]
    },
    {
      "cell_type": "code",
      "execution_count": null,
      "metadata": {
        "id": "-mOu0Y1pYnWp"
      },
      "outputs": [],
      "source": []
    },
    {
      "cell_type": "markdown",
      "source": [
        "**Data Science** is a field that is used to extract useful\n",
        "information from data. It follows a **statistical approach** to\n",
        "retrieve the information and make decisions."
      ],
      "metadata": {
        "id": "Uye6DjJTYpSo"
      }
    },
    {
      "cell_type": "code",
      "source": [
        "import pandas as pd\n",
        "df=pd.read_csv('/content/131.csv')\n",
        "\n",
        "df.head()"
      ],
      "metadata": {
        "id": "kLe85o4bYvo4"
      },
      "execution_count": null,
      "outputs": []
    },
    {
      "cell_type": "code",
      "source": [
        "planet_rows=[]\n",
        "for index, rows in df.iterrows():\n",
        "  \n",
        "  my_list=[rows[1],rows.solar_system_name,rows.planet_mass,rows.planet_radius,rows.planet_type,rows.orbital_radius,rows.orbital_period]\n",
        "  planet_rows.append(my_list)\n",
        "\n",
        "planet_rows"
      ],
      "metadata": {
        "id": "wrGgl-jaalOi"
      },
      "execution_count": null,
      "outputs": []
    },
    {
      "cell_type": "code",
      "source": [
        "solar_sysytems={}\n",
        "\n",
        "for planet in planet_rows:\n",
        "  if solar_sysytems.get(planet[1]):\n",
        "    solar_sysytems[planet[1]]+=1\n",
        "  else:\n",
        "    solar_sysytems[planet[1]]=1\n",
        "\n",
        "solar_sysytems"
      ],
      "metadata": {
        "id": "8x-hQDIUFYLw"
      },
      "execution_count": null,
      "outputs": []
    },
    {
      "cell_type": "code",
      "source": [
        "max_solar_sysytem= max(solar_sysytems,key=solar_sysytems.get)\n",
        "print(max_solar_sysytem, solar_sysytems[max_solar_sysytem])"
      ],
      "metadata": {
        "id": "Y4e-luALG8FB"
      },
      "execution_count": null,
      "outputs": []
    },
    {
      "cell_type": "code",
      "source": [
        "# planet radius and planet mass- some places its mass or jupiter --> make it uniform\n",
        "\n",
        "temp_planetros = list(planet_rows)\n",
        "\n",
        "for planet in temp_planetros:\n",
        "\n",
        "  planet_mass=planet[2]\n",
        "  \n",
        "\n",
        "  if planet_mass.lower() == \"unknown\" :\n",
        "    planet_rows.remove(planet)\n",
        "    continue\n",
        "\n",
        "  else:\n",
        "    planet_mass_value = planet_mass.split(\" \")[0]\n",
        "    planet_mass_ref = planet_mass.split(\" \")[1]\n",
        "    \n",
        "    if planet_mass_ref == \"Jupiters\":\n",
        "      planet_mass_value = float(planet_mass_value) * 317.8\n",
        "    planet[2]=planet_mass_value\n",
        "      \n",
        "\n",
        "\n",
        "# for planet radius\n",
        "  planet_radius=planet[3]\n",
        "  \n",
        "\n",
        "  if planet_radius.lower()==\"unknown\":\n",
        "    planet_rows.remove(planet)\n",
        "    continue\n",
        "\n",
        "  else:\n",
        "    planet_radius_value = planet_radius.split(\" \")[0]\n",
        "    planet_radius_ref = planet_radius.split(\" \")[2]\n",
        "    \n",
        "\n",
        "    if planet_radius_ref==\"Jupiter\":\n",
        "      planet_radius_value=float(planet_radius_value)*11.2\n",
        "    planet[3]=planet_radius_value\n",
        "      \n",
        "      \n",
        "\n"
      ],
      "metadata": {
        "id": "3dKI3Nn5IDqx"
      },
      "execution_count": 5,
      "outputs": []
    },
    {
      "cell_type": "code",
      "source": [
        "planet_rows\n"
      ],
      "metadata": {
        "id": "uexk6sZQxg-M"
      },
      "execution_count": null,
      "outputs": []
    },
    {
      "cell_type": "code",
      "source": [
        "# get the name of plNETS IN THE MAX SOLAR SYSYTEM\n",
        "\n",
        "koi_351_planets=[]\n",
        "\n",
        "\n",
        "for planet in planet_rows:\n",
        "  \n",
        "  if max_solar_sysytem == planet[1]:\n",
        "    koi_351_planets.append(planet)\n",
        "\n",
        "koi_351_planets\n"
      ],
      "metadata": {
        "id": "xiCnAl9knlDm"
      },
      "execution_count": null,
      "outputs": []
    },
    {
      "cell_type": "code",
      "source": [
        "import plotly.express as px\n",
        "\n",
        "koi_351_planet_masses = []\n",
        "koi_351_planet_names = []\n",
        "\n",
        "for planet_data in koi_351_planets:\n",
        "  koi_351_planet_masses.append(planet_data[2])\n",
        "  koi_351_planet_names.append(planet_data[0])\n",
        "\n",
        "# Adding Earth and its mass \n",
        "koi_351_planet_masses.append(1)\n",
        "koi_351_planet_names.append(\"Earth\")\n",
        "\n",
        "fig = px.bar(x=koi_351_planet_names, y=koi_351_planet_masses)\n",
        "fig.show()"
      ],
      "metadata": {
        "id": "uyhZgtlx6UAI"
      },
      "execution_count": null,
      "outputs": []
    },
    {
      "cell_type": "code",
      "source": [
        "\n",
        "\n",
        "planet_masses = []\n",
        "planet_radiuses = []\n",
        "planet_names = []\n",
        "planet_gravity = []\n",
        "\n",
        "for planet_data in planet_rows:\n",
        "  \n",
        "  \n",
        "  planet_masses.append(planet_data[2])\n",
        "  planet_radiuses.append(planet_data[3])\n",
        "  planet_names.append(planet_data[0])\n",
        "\n",
        "  gravity = (float(planet_data[2])*5.972e+24) / (float(planet_data[3])*float(planet_data[3])*6371000*6371000) * 6.674e-11\n",
        "  \n",
        "  planet_gravity.append(gravity)\n",
        "\n",
        "\n",
        "\n",
        "fig = px.scatter(x=planet_radiuses, y=planet_masses, size=planet_gravity, hover_data=[planet_names])\n",
        "fig.show()"
      ],
      "metadata": {
        "id": "c9YdwgaE7ZGg"
      },
      "execution_count": null,
      "outputs": []
    },
    {
      "cell_type": "code",
      "source": [
        "temp_planetdata= list(planet_rows)\n",
        "\n",
        "for planet in temp_planetdata:\n",
        "  if planet[0].lower()==\"hd 100546 b\":\n",
        "    \n",
        "    planet_rows.remove(planet)"
      ],
      "metadata": {
        "id": "IjhkLxbdlh2W"
      },
      "execution_count": 11,
      "outputs": []
    },
    {
      "cell_type": "code",
      "source": [
        "planet_masses = []\n",
        "planet_radiuses = []\n",
        "planet_names = []\n",
        "planet_gravity = []\n",
        "\n",
        "for planet_data in planet_rows:\n",
        "  \n",
        "  \n",
        "  planet_masses.append(planet_data[2])\n",
        "  planet_radiuses.append(planet_data[3])\n",
        "  planet_names.append(planet_data[0])\n",
        "\n",
        "  gravity = (float(planet_data[2])*5.972e+24) / (float(planet_data[3])*float(planet_data[3])*6371000*6371000) * 6.674e-11\n",
        "  \n",
        "  planet_gravity.append(gravity)\n",
        "\n",
        "\n",
        "\n",
        "fig = px.scatter(x=planet_radiuses, y=planet_masses, size=planet_gravity, hover_data=[planet_names])\n",
        "fig.show()"
      ],
      "metadata": {
        "id": "SNesXGftmSYB"
      },
      "execution_count": null,
      "outputs": []
    },
    {
      "cell_type": "markdown",
      "source": [
        "### [c132]\n",
        "\n",
        "---\n",
        "\n"
      ],
      "metadata": {
        "id": "S0KXYQ-syLjS"
      }
    },
    {
      "cell_type": "markdown",
      "source": [
        "\n",
        "\n",
        "\n",
        ".\n"
      ],
      "metadata": {
        "id": "5ls5xa1SyPh-"
      }
    },
    {
      "cell_type": "code",
      "source": [
        "low_gravity_planets = []\n",
        "for index, gravity in enumerate(planet_gravity): \n",
        "  if gravity < 100:\n",
        "    low_gravity_planets.append(planet_rows[index])\n",
        "\n",
        "print(len(low_gravity_planets))"
      ],
      "metadata": {
        "id": "_VXCmgI0Kae3"
      },
      "execution_count": null,
      "outputs": []
    },
    {
      "cell_type": "code",
      "source": [
        "# we want to know the planet type of each planet\n",
        "\n",
        "planettype=[]\n",
        "\n",
        "for planet in planet_rows:\n",
        "  planettype.append(planet[4])\n",
        "\n",
        "print(list(set(planettype)))\n"
      ],
      "metadata": {
        "id": "Fg_1E-RseLjK",
        "colab": {
          "base_uri": "https://localhost:8080/"
        },
        "outputId": "a27c53e4-8722-4d91-8d29-a228da79455b"
      },
      "execution_count": 14,
      "outputs": [
        {
          "output_type": "stream",
          "name": "stdout",
          "text": [
            "['Gas Giant', 'Terrestrial', 'Super Earth', 'Neptune-like']\n"
          ]
        }
      ]
    },
    {
      "cell_type": "code",
      "source": [
        "# calculate the number of clusters... x: planet radius , y:planet mass\n",
        "\n",
        "planet_mass=[]\n",
        "planet_radius=[]\n",
        "planet_type=[]\n",
        "\n",
        "\n",
        "\n",
        "for planet in low_gravity_planets:\n",
        "  planet_mass.append(planet[2])\n",
        "  planet_radius.append(planet[3])\n",
        "  planet_type.append(planet[4])\n",
        "\n",
        "fig=px.scatter(x=planet_radius,y=planet_mass,color=planet_type)\n",
        "fig.show()"
      ],
      "metadata": {
        "id": "JSheA3QKgyuU"
      },
      "execution_count": null,
      "outputs": []
    },
    {
      "cell_type": "code",
      "source": [
        "#s select the x data\n",
        "\n",
        "x=[]\n",
        "\n",
        "for planet in low_gravity_planets:\n",
        "  temp_list=[planet[3],planet[2]] # planet_radius and planet_mass\n",
        "  x.append(temp_list)"
      ],
      "metadata": {
        "id": "w7K6rR9gjF4O"
      },
      "execution_count": 16,
      "outputs": []
    },
    {
      "cell_type": "code",
      "source": [
        "import matplotlib.pyplot as plt\n",
        "import seaborn as sns\n",
        "\n",
        "from sklearn.cluster import KMeans\n",
        "\n",
        "\n",
        "wcss=[]\n",
        "for i in range(1,7):\n",
        "  kmeans = KMeans(i)\n",
        "  kmeans.fit(x)\n",
        "  wcss_iter = kmeans.inertia_\n",
        "  wcss.append(wcss_iter)\n",
        "\n",
        "number_clusters = range(1,7)\n",
        "plt.plot(number_clusters,wcss)\n",
        "plt.title('The Elbow title')\n",
        "plt.xlabel('Number of clusters')\n",
        "plt.ylabel('WCSS')"
      ],
      "metadata": {
        "id": "Ign1BCyBlbOa",
        "colab": {
          "base_uri": "https://localhost:8080/",
          "height": 313
        },
        "outputId": "cd219259-284c-4dc5-86f5-e988d8c6e764"
      },
      "execution_count": 17,
      "outputs": [
        {
          "output_type": "execute_result",
          "data": {
            "text/plain": [
              "Text(0, 0.5, 'WCSS')"
            ]
          },
          "metadata": {},
          "execution_count": 17
        },
        {
          "output_type": "display_data",
          "data": {
            "text/plain": [
              "<Figure size 432x288 with 1 Axes>"
            ],
            "image/png": "[encoded data removed]"
          },
          "metadata": {
            "needs_background": "light"
          }
        }
      ]
    },
    {
      "cell_type": "code",
      "source": [
        "# planet types=4, but when we looked at the scatter plot, we couldn’t detect the number of clear clusters.\n",
        "\n",
        "# That’s the power of machine learning!\n",
        "\n",
        "# Out of the 4 types of planets that we studied, which are the ones that can support life?\n",
        "# Terrestrial & Super-Earth\n",
        "\n",
        "siutable_planets=[]\n",
        "\n",
        "for planet in low_gravity_planets:\n",
        "  if planet[4].lower()==\"terrestrial\" or planet[4].lower()==\"super earth\":\n",
        "    siutable_planets.append(planet)\n",
        "\n",
        "print(len(siutable_planets))\n"
      ],
      "metadata": {
        "colab": {
          "base_uri": "https://localhost:8080/"
        },
        "id": "aRfeaChPwMCt",
        "outputId": "69775f16-531b-46aa-d5c5-5e3be19a0133"
      },
      "execution_count": 18,
      "outputs": [
        {
          "output_type": "stream",
          "name": "stdout",
          "text": [
            "1452\n"
          ]
        }
      ]
    },
    {
      "cell_type": "code",
      "source": [
        "# are these the only factor needed to survive on planets..>???\n",
        "# speed of the planet...!!"
      ],
      "metadata": {
        "id": "GhY_4vEVxyzO"
      },
      "execution_count": null,
      "outputs": []
    },
    {
      "cell_type": "markdown",
      "source": [
        "**c133**"
      ],
      "metadata": {
        "id": "mBgSlJYjkrj2"
      }
    },
    {
      "cell_type": "markdown",
      "source": [
        ".\n",
        "\n"
      ],
      "metadata": {
        "id": "fAk7reafkvQT"
      }
    },
    {
      "cell_type": "code",
      "source": [
        "# remove orbital radius that are unknown\n",
        "temp_siutable_planets= list(siutable_planets)\n",
        "\n",
        "for planets in temp_siutable_planets:\n",
        "  if planets[5].lower() == \"unknown\":\n",
        "    siutable_planets.remove(planets)\n",
        "    \n",
        "  \n",
        "\n",
        "\n",
        "# orbital_period -- convert to days\n",
        "\n",
        "for planets in siutable_planets:\n",
        "  if planets[6].split(\" \")[1].lower() == \"days\":\n",
        "    planets[6]= float(planets[6].split(\" \")[0])\n",
        "\n",
        "  else:\n",
        "    planets[6]= float(planets[6].split(\" \")[0])* 365\n",
        "\n",
        "  planets[5]= float(planets[5].split(\" \")[0])\n",
        "  \n",
        "\n",
        "  \n",
        "  \n",
        "\n",
        "  \n",
        "\n"
      ],
      "metadata": {
        "id": "aZs1v4YZkw1E"
      },
      "execution_count": 19,
      "outputs": []
    },
    {
      "cell_type": "code",
      "source": [
        "# draw scatter graph between orbital radius and orbital period\n",
        "\n",
        "orbital_radius=[]\n",
        "orbital_period=[]\n",
        "\n",
        "for planets in siutable_planets:\n",
        "  \n",
        "  orbital_radius.append(planets[5])\n",
        "  orbital_period.append(planets[6])\n",
        "\n",
        "fig=px.scatter(x=orbital_radius, y=orbital_period)\n",
        "fig.show()"
      ],
      "metadata": {
        "id": "4Bg-EzIkwG5y"
      },
      "execution_count": null,
      "outputs": []
    },
    {
      "cell_type": "code",
      "source": [
        "# remove planets which have orbital radius less than 0.33 and greater than 2\n",
        "\n",
        "goldilock_planets = list(siutable_planets) #We will leave suitable planet list as it is\n",
        "\n",
        "temp_goldilock_planets = list(siutable_planets) \n",
        "for planet_data in temp_goldilock_planets:\n",
        "  if planet_data[5] < 0.38 or planet_data[5] > 2:\n",
        "    goldilock_planets.remove(planet_data)\n",
        "\n",
        "print(len(siutable_planets))\n",
        "print(len(goldilock_planets))"
      ],
      "metadata": {
        "colab": {
          "base_uri": "https://localhost:8080/"
        },
        "id": "NPyvH0Xofidq",
        "outputId": "d1240f45-f31c-4da1-ec78-8a8d9967eb79"
      },
      "execution_count": 21,
      "outputs": [
        {
          "output_type": "stream",
          "name": "stdout",
          "text": [
            "696\n",
            "25\n"
          ]
        }
      ]
    },
    {
      "cell_type": "code",
      "source": [
        "planet_speeds = []\n",
        "\n",
        "for planet_data in siutable_planets:\n",
        "  distance = 2 * 3.14 * (planet_data[5] * 1.496e+8) # orbital radius\n",
        "  time = planet_data[6] * 86400 # orbital period\n",
        "\n",
        "  speed = distance / time\n",
        "\n",
        "  \n",
        "\n",
        "  planet_speeds.append(speed)"
      ],
      "metadata": {
        "id": "WATOrjX0i_A0"
      },
      "execution_count": 22,
      "outputs": []
    },
    {
      "cell_type": "code",
      "source": [
        "# remove the planets which are having speed greater than 200\n",
        "\n",
        "speed_supporting_planets = list(siutable_planets) \n",
        "\n",
        "temp_speed_planets = list(siutable_planets)\n",
        "\n",
        "for index, planet_data in enumerate(temp_speed_planets):\n",
        "  if planet_speeds[index] > 200:\n",
        "    speed_supporting_planets.remove(planet_data)\n",
        "\n",
        "print(len(speed_supporting_planets))"
      ],
      "metadata": {
        "colab": {
          "base_uri": "https://localhost:8080/"
        },
        "id": "VJVOKVcOjp5j",
        "outputId": "f38c5ecb-b7aa-4cde-bd1c-0ffe26ebf4dd"
      },
      "execution_count": 23,
      "outputs": [
        {
          "output_type": "stream",
          "name": "stdout",
          "text": [
            "676\n"
          ]
        }
      ]
    },
    {
      "cell_type": "markdown",
      "source": [
        " 25 planets that have the right planet_type, orbital radius, gravity\n",
        "\n",
        " There are 676 planets at the right speed to support us!"
      ],
      "metadata": {
        "id": "HQXNbALlmCZz"
      }
    },
    {
      "cell_type": "markdown",
      "source": [
        "**c134...**\n",
        "\n",
        "\n"
      ],
      "metadata": {
        "id": "_uArP89Fvelj"
      }
    },
    {
      "cell_type": "markdown",
      "source": [
        ".\n",
        "\n",
        "\n",
        ".\n",
        "\n"
      ],
      "metadata": {
        "id": "KRfsmC1TvkRW"
      }
    },
    {
      "cell_type": "code",
      "source": [
        "habitable_planets=[]\n",
        "\n",
        "for planet in speed_supporting_planets:\n",
        "  if planet in goldilock_planets:\n",
        "    habitable_planets.append(planet)\n",
        "\n",
        "len(habitable_planets)"
      ],
      "metadata": {
        "colab": {
          "base_uri": "https://localhost:8080/"
        },
        "id": "RsTReXbHvjy4",
        "outputId": "11572f32-ecfd-4920-ae0b-b89d80653273"
      },
      "execution_count": 24,
      "outputs": [
        {
          "output_type": "execute_result",
          "data": {
            "text/plain": [
              "25"
            ]
          },
          "metadata": {},
          "execution_count": 24
        }
      ]
    },
    {
      "cell_type": "code",
      "source": [
        "# filter the planet that have low gravity only and nothing else\n",
        "\n",
        "final_dict={}\n",
        "\n",
        "for index, planet in enumerate(planet_rows):\n",
        "  feature_list=[]\n",
        "\n",
        "\n",
        "# gravity\n",
        "  gravity = (float(planet[2])*5.972e+24) / (float(planet[3])*float(planet[3])*6371000*6371000) * 6.674e-11\n",
        "  try:\n",
        "    if gravity<100:\n",
        "      feature_list.append(\"gravity\")\n",
        "  except: pass\n",
        "\n",
        "#planet type\n",
        "  try:\n",
        "    if planet[4].lower()==\"terrestrial\" or planet[4].lower()==\"super earth\":\n",
        "      feature_list.append(\"planet_type\")\n",
        "  except: pass\n",
        "\n",
        "#goldilock planet\n",
        "  try:\n",
        "    print(planet[5])\n",
        "    if planet[5] > 0.38 or planet[5] < 2:\n",
        "      feature_list.append(\"goldilock\")\n",
        "  except: pass\n",
        "\n",
        "#planet speed\n",
        "  try:\n",
        "    distance = 2 * 3.14 * (planet[5] * 1.496e+8) # orbital radius\n",
        "    time = planet[6] * 86400 # orbital period\n",
        "    speed = distance / time\n",
        "\n",
        "    if speed<200:\n",
        "      feature_list.append(\"speed\")\n",
        "  except: pass\n",
        "\n",
        "  final_dict[index]=(feature_list)\n",
        "\n",
        "print(final_dict)\n"
      ],
      "metadata": {
        "id": "LCxqt0BCvhM_"
      },
      "execution_count": null,
      "outputs": []
    },
    {
      "cell_type": "code",
      "source": [
        "# check how many planets have low gravity planets\n",
        "gravity_planet_count= 0\n",
        "for key,value in final_dict.items():\n",
        "  if \"gravity\" in value:\n",
        "    gravity_planet_count+=1\n",
        "\n",
        "gravity_planet_count"
      ],
      "metadata": {
        "colab": {
          "base_uri": "https://localhost:8080/"
        },
        "id": "6r2rWxapCReS",
        "outputId": "886d1dd8-5172-4433-8c35-938ae9a85ee6"
      },
      "execution_count": 26,
      "outputs": [
        {
          "output_type": "execute_result",
          "data": {
            "text/plain": [
              "3951"
            ]
          },
          "metadata": {},
          "execution_count": 26
        }
      ]
    },
    {
      "cell_type": "code",
      "source": [
        "planettype_count= 0\n",
        "for key,value in final_dict.items():\n",
        "  if \"planet_type\" in value:\n",
        "    planettype_count+=1\n",
        "\n",
        "planettype_count"
      ],
      "metadata": {
        "colab": {
          "base_uri": "https://localhost:8080/"
        },
        "id": "2FVGy6trDNEz",
        "outputId": "b65bc9f7-49b9-4145-a41a-b0171090503c"
      },
      "execution_count": 27,
      "outputs": [
        {
          "output_type": "execute_result",
          "data": {
            "text/plain": [
              "1485"
            ]
          },
          "metadata": {},
          "execution_count": 27
        }
      ]
    },
    {
      "cell_type": "code",
      "source": [
        "# last time remeber we had planet type has 1452(including low gravity planets)\n",
        "# that means there are 33 planets that are planet type but not low gravity,filter them\n",
        "\n",
        "not_lowgravity_planet=[]\n",
        "\n",
        "for planet in planet_rows:\n",
        "  if planet not in low_gravity_planets:\n",
        "    not_lowgravity_planet.append(planet)\n",
        "\n",
        "len(not_lowgravity_planet)"
      ],
      "metadata": {
        "colab": {
          "base_uri": "https://localhost:8080/"
        },
        "id": "bHrvqfb3Ealc",
        "outputId": "ec61b038-61d2-4862-8d73-611f7504495c"
      },
      "execution_count": 28,
      "outputs": [
        {
          "output_type": "execute_result",
          "data": {
            "text/plain": [
              "299"
            ]
          },
          "metadata": {},
          "execution_count": 28
        }
      ]
    },
    {
      "cell_type": "code",
      "source": [
        "# filter the ones which are habitual planet types\n",
        "type_no_gravity_planet_count=0\n",
        "for planet in not_lowgravity_planet:\n",
        "  if planet[4].lower()==\"terrestrial\" or planet[4].lower()==\"super earth\":\n",
        "    type_no_gravity_planet_count+=1\n",
        "\n",
        "type_no_gravity_planet_count"
      ],
      "metadata": {
        "colab": {
          "base_uri": "https://localhost:8080/"
        },
        "id": "z6AgnAmPHG2f",
        "outputId": "12af55ae-fccb-4be3-ab2e-bac65704f061"
      },
      "execution_count": 29,
      "outputs": [
        {
          "output_type": "execute_result",
          "data": {
            "text/plain": [
              "33"
            ]
          },
          "metadata": {},
          "execution_count": 29
        }
      ]
    },
    {
      "cell_type": "code",
      "source": [
        "#similiarly check how many goldilick planets and speed supporting planets\n",
        "\n",
        "goldilock_count= 0\n",
        "for key,value in final_dict.items():\n",
        "  if \"goldilock\" in value:\n",
        "    goldilock_count+=1\n",
        "\n",
        "goldilock_count"
      ],
      "metadata": {
        "colab": {
          "base_uri": "https://localhost:8080/"
        },
        "id": "hcydLPoYH5ta",
        "outputId": "7f0a1870-fc6f-4454-acbd-32a41c5c50d5"
      },
      "execution_count": 30,
      "outputs": [
        {
          "output_type": "execute_result",
          "data": {
            "text/plain": [
              "696"
            ]
          },
          "metadata": {},
          "execution_count": 30
        }
      ]
    },
    {
      "cell_type": "code",
      "source": [
        "speed_count= 0\n",
        "for key,value in final_dict.items():\n",
        "  if \"speed\" in value:\n",
        "    speed_count+=1\n",
        "\n",
        "speed_count"
      ],
      "metadata": {
        "colab": {
          "base_uri": "https://localhost:8080/"
        },
        "id": "IdHhcFykIR6F",
        "outputId": "fd634e92-9069-476c-92ca-883497e1be87"
      },
      "execution_count": 31,
      "outputs": [
        {
          "output_type": "execute_result",
          "data": {
            "text/plain": [
              "676"
            ]
          },
          "metadata": {},
          "execution_count": 31
        }
      ]
    },
    {
      "cell_type": "code",
      "source": [],
      "metadata": {
        "id": "ISfDVGP2p2nY"
      },
      "execution_count": null,
      "outputs": []
    },
    {
      "cell_type": "markdown",
      "source": [
        "c135.....\n",
        "\n"
      ],
      "metadata": {
        "id": "o90fHIPYK2Q4"
      }
    },
    {
      "cell_type": "code",
      "source": [
        "# copy paste\n",
        "\n",
        "final_dict={}\n",
        "\n",
        "for index, planet in enumerate(planet_rows):\n",
        "  feature_list=[]\n",
        "\n",
        "\n",
        "# gravity\n",
        "  gravity = (float(planet[2])*5.972e+24) / (float(planet[3])*float(planet[3])*6371000*6371000) * 6.674e-11\n",
        "  try:\n",
        "    if gravity<100:\n",
        "      feature_list.append(\"gravity\")\n",
        "  except: pass\n",
        "\n",
        "#planet type\n",
        "  try:\n",
        "    if planet[4].lower()==\"terrestrial\" or planet[4].lower()==\"super earth\":\n",
        "      feature_list.append(\"planet_type\")\n",
        "  except: pass\n",
        "\n",
        "#goldilock planet\n",
        "  try:\n",
        "    \n",
        "    if float(planet[5].split(\" \")[0]) > 0.38 and float(planet[5].split(\" \")[0]) < 2:\n",
        "      feature_list.append(\"goldilock\")\n",
        "  except: pass\n",
        "\n",
        "#planet speed\n",
        "  try:\n",
        "    try:\n",
        "      distance = 2 * 3.14 * (float(planet[5].split(\" \")[0]) * 1.496e+9)\n",
        "    except:\n",
        "      try:\n",
        "        distance = 2 * 3.14 * (float(planet[5]) * 1.496e+9)\n",
        "      except: pass\n",
        "    try:\n",
        "      time, unit = planet[6].split(\" \")[0], planet[6].split(\" \")[1]\n",
        "      if unit.lower() == \"days\":\n",
        "        time = float(time)\n",
        "      else:\n",
        "        time = float(time) * 365\n",
        "    except:\n",
        "      time = planet[6]\n",
        "    time = time * 86400\n",
        "    speed = distance / time\n",
        "    if speed < 200:\n",
        "      \n",
        "      feature_list.append(\"speed\")\n",
        "  except: pass\n",
        "  \n",
        "  final_dict[planet[0]]=(feature_list)\n",
        "\n",
        "print(final_dict)"
      ],
      "metadata": {
        "id": "ZmZGDzV-K4NV"
      },
      "execution_count": null,
      "outputs": []
    }
  ]
}